{
 "cells": [
  {
   "cell_type": "code",
   "execution_count": null,
   "metadata": {
    "ExecuteTime": {
     "end_time": "2018-11-12T15:01:01.082290Z",
     "start_time": "2018-11-12T15:01:01.078535Z"
    }
   },
   "outputs": [
    {
     "name": "stdout",
     "output_type": "stream",
     "text": [
      "Pretty printing has been turned OFF\n"
     ]
    }
   ],
   "source": [
    "import darwinex_ticks"
   ]
  },
  {
   "cell_type": "code",
   "execution_count": 3,
   "metadata": {
    "ExecuteTime": {
     "end_time": "2018-11-12T14:57:34.592058Z",
     "start_time": "2018-11-12T14:57:34.586203Z"
    }
   },
   "outputs": [
    {
     "data": {
      "text/plain": [
       "['darwinex_ticks']"
      ]
     },
     "execution_count": 3,
     "metadata": {},
     "output_type": "execute_result"
    }
   ],
   "source": [
    "darwinex_ticks.__path__"
   ]
  },
  {
   "cell_type": "markdown",
   "metadata": {
    "ExecuteTime": {
     "end_time": "2018-11-12T15:37:27.181016Z",
     "start_time": "2018-11-12T15:37:26.169447Z"
    }
   },
   "source": [
    "Connect the ftp server."
   ]
  },
  {
   "cell_type": "code",
   "execution_count": 39,
   "metadata": {
    "ExecuteTime": {
     "end_time": "2018-11-12T15:37:27.181016Z",
     "start_time": "2018-11-12T15:37:26.169447Z"
    }
   },
   "outputs": [
    {
     "name": "stdout",
     "output_type": "stream",
     "text": [
      "Connected Darwinex Ticks Data Server\n"
     ]
    }
   ],
   "source": [
    "dwt = darwinex_ticks.DarwinexTicksConnection(dwx_ftp_user='your username',\n",
    "                       dwx_ftp_pass='your pass',\n",
    "                       dwx_ftp_hostname='tickdata.darwinex.com',\n",
    "                       dwx_ftp_port=21)"
   ]
  },
  {
   "cell_type": "code",
   "execution_count": 7,
   "metadata": {
    "ExecuteTime": {
     "end_time": "2018-11-12T15:01:05.212827Z",
     "start_time": "2018-11-12T15:01:05.206487Z"
    }
   },
   "outputs": [
    {
     "data": {
      "text/plain": [
       "['AUDCAD', 'AUDCHF', 'AUDJPY', 'AUDNZD', 'AUDUSD', 'AUS200', 'CADCHF', 'CADJPY', 'CHFJPY', 'EURAUD', 'EURCAD', 'EURCHF', 'EURGBP', 'EURJPY', 'EURMXN', 'EURNOK', 'EURNZD', 'EURSGD', 'EURTRY', 'EURUSD', 'FCHI', 'GBPAUD', 'GBPCAD', 'GBPCHF', 'GBPJPY', 'GBPMXN', 'GBPNOK', 'GBPNZD', 'GBPTRY', 'GBPUSD', 'GDAXIm', 'J225', 'NDXm', 'NZDCAD', 'NZDCHF', 'NZDJPY', 'NZDUSD', 'SPN35', 'SPXm', 'STOXX50E', 'UK100', 'USDCAD', 'USDCHF', 'USDHKD', 'USDJPY', 'USDMXN', 'USDNOK', 'USDSEK', 'USDSGD', 'USDTRY', 'WS30', 'WS30m', 'XAGUSD', 'XAUUSD', 'XBNUSD', 'XBTUSD', 'XETUSD', 'XLCUSD', 'XNGUSD', 'XPDUSD', 'XPTUSD', 'XRPUSD', 'XTIUSD']"
      ]
     },
     "execution_count": 7,
     "metadata": {},
     "output_type": "execute_result"
    }
   ],
   "source": [
    "dwt.available_assets"
   ]
  },
  {
   "cell_type": "code",
   "execution_count": 10,
   "metadata": {
    "ExecuteTime": {
     "end_time": "2018-11-12T15:01:53.337785Z",
     "start_time": "2018-11-12T15:01:52.150230Z"
    }
   },
   "outputs": [
    {
     "data": {
      "text/html": [
       "<div>\n",
       "<style scoped>\n",
       "    .dataframe tbody tr th:only-of-type {\n",
       "        vertical-align: middle;\n",
       "    }\n",
       "\n",
       "    .dataframe tbody tr th {\n",
       "        vertical-align: top;\n",
       "    }\n",
       "\n",
       "    .dataframe thead th {\n",
       "        text-align: right;\n",
       "    }\n",
       "</style>\n",
       "<table border=\"1\" class=\"dataframe\">\n",
       "  <thead>\n",
       "    <tr style=\"text-align: right;\">\n",
       "      <th></th>\n",
       "      <th>file</th>\n",
       "      <th>asset</th>\n",
       "      <th>pos</th>\n",
       "      <th>date</th>\n",
       "      <th>hour</th>\n",
       "    </tr>\n",
       "    <tr>\n",
       "      <th>time</th>\n",
       "      <th></th>\n",
       "      <th></th>\n",
       "      <th></th>\n",
       "      <th></th>\n",
       "      <th></th>\n",
       "    </tr>\n",
       "  </thead>\n",
       "  <tbody>\n",
       "    <tr>\n",
       "      <th>2017-10-01 22:00:00</th>\n",
       "      <td>STOXX50E_ASK_2017-10-01_22.log.gz</td>\n",
       "      <td>STOXX50E</td>\n",
       "      <td>ASK</td>\n",
       "      <td>2017-10-01</td>\n",
       "      <td>22</td>\n",
       "    </tr>\n",
       "    <tr>\n",
       "      <th>2017-10-01 23:00:00</th>\n",
       "      <td>STOXX50E_ASK_2017-10-01_23.log.gz</td>\n",
       "      <td>STOXX50E</td>\n",
       "      <td>ASK</td>\n",
       "      <td>2017-10-01</td>\n",
       "      <td>23</td>\n",
       "    </tr>\n",
       "    <tr>\n",
       "      <th>2017-10-02 00:00:00</th>\n",
       "      <td>STOXX50E_ASK_2017-10-02_00.log.gz</td>\n",
       "      <td>STOXX50E</td>\n",
       "      <td>ASK</td>\n",
       "      <td>2017-10-02</td>\n",
       "      <td>00</td>\n",
       "    </tr>\n",
       "    <tr>\n",
       "      <th>2017-10-02 01:00:00</th>\n",
       "      <td>STOXX50E_ASK_2017-10-02_01.log.gz</td>\n",
       "      <td>STOXX50E</td>\n",
       "      <td>ASK</td>\n",
       "      <td>2017-10-02</td>\n",
       "      <td>01</td>\n",
       "    </tr>\n",
       "    <tr>\n",
       "      <th>2017-10-02 02:00:00</th>\n",
       "      <td>STOXX50E_ASK_2017-10-02_02.log.gz</td>\n",
       "      <td>STOXX50E</td>\n",
       "      <td>ASK</td>\n",
       "      <td>2017-10-02</td>\n",
       "      <td>02</td>\n",
       "    </tr>\n",
       "    <tr>\n",
       "      <th>2017-10-02 03:00:00</th>\n",
       "      <td>STOXX50E_ASK_2017-10-02_03.log.gz</td>\n",
       "      <td>STOXX50E</td>\n",
       "      <td>ASK</td>\n",
       "      <td>2017-10-02</td>\n",
       "      <td>03</td>\n",
       "    </tr>\n",
       "    <tr>\n",
       "      <th>2017-10-02 04:00:00</th>\n",
       "      <td>STOXX50E_ASK_2017-10-02_04.log.gz</td>\n",
       "      <td>STOXX50E</td>\n",
       "      <td>ASK</td>\n",
       "      <td>2017-10-02</td>\n",
       "      <td>04</td>\n",
       "    </tr>\n",
       "    <tr>\n",
       "      <th>2017-10-02 05:00:00</th>\n",
       "      <td>STOXX50E_ASK_2017-10-02_05.log.gz</td>\n",
       "      <td>STOXX50E</td>\n",
       "      <td>ASK</td>\n",
       "      <td>2017-10-02</td>\n",
       "      <td>05</td>\n",
       "    </tr>\n",
       "    <tr>\n",
       "      <th>2017-10-02 06:00:00</th>\n",
       "      <td>STOXX50E_ASK_2017-10-02_06.log.gz</td>\n",
       "      <td>STOXX50E</td>\n",
       "      <td>ASK</td>\n",
       "      <td>2017-10-02</td>\n",
       "      <td>06</td>\n",
       "    </tr>\n",
       "    <tr>\n",
       "      <th>2017-10-02 07:00:00</th>\n",
       "      <td>STOXX50E_ASK_2017-10-02_07.log.gz</td>\n",
       "      <td>STOXX50E</td>\n",
       "      <td>ASK</td>\n",
       "      <td>2017-10-02</td>\n",
       "      <td>07</td>\n",
       "    </tr>\n",
       "  </tbody>\n",
       "</table>\n",
       "</div>"
      ],
      "text/plain": [
       "                                                  file     asset  pos  \\\n",
       "time                                                                    \n",
       "2017-10-01 22:00:00  STOXX50E_ASK_2017-10-01_22.log.gz  STOXX50E  ASK   \n",
       "2017-10-01 23:00:00  STOXX50E_ASK_2017-10-01_23.log.gz  STOXX50E  ASK   \n",
       "2017-10-02 00:00:00  STOXX50E_ASK_2017-10-02_00.log.gz  STOXX50E  ASK   \n",
       "2017-10-02 01:00:00  STOXX50E_ASK_2017-10-02_01.log.gz  STOXX50E  ASK   \n",
       "2017-10-02 02:00:00  STOXX50E_ASK_2017-10-02_02.log.gz  STOXX50E  ASK   \n",
       "2017-10-02 03:00:00  STOXX50E_ASK_2017-10-02_03.log.gz  STOXX50E  ASK   \n",
       "2017-10-02 04:00:00  STOXX50E_ASK_2017-10-02_04.log.gz  STOXX50E  ASK   \n",
       "2017-10-02 05:00:00  STOXX50E_ASK_2017-10-02_05.log.gz  STOXX50E  ASK   \n",
       "2017-10-02 06:00:00  STOXX50E_ASK_2017-10-02_06.log.gz  STOXX50E  ASK   \n",
       "2017-10-02 07:00:00  STOXX50E_ASK_2017-10-02_07.log.gz  STOXX50E  ASK   \n",
       "\n",
       "                           date hour  \n",
       "time                                  \n",
       "2017-10-01 22:00:00  2017-10-01   22  \n",
       "2017-10-01 23:00:00  2017-10-01   23  \n",
       "2017-10-02 00:00:00  2017-10-02   00  \n",
       "2017-10-02 01:00:00  2017-10-02   01  \n",
       "2017-10-02 02:00:00  2017-10-02   02  \n",
       "2017-10-02 03:00:00  2017-10-02   03  \n",
       "2017-10-02 04:00:00  2017-10-02   04  \n",
       "2017-10-02 05:00:00  2017-10-02   05  \n",
       "2017-10-02 06:00:00  2017-10-02   06  \n",
       "2017-10-02 07:00:00  2017-10-02   07  "
      ]
     },
     "execution_count": 10,
     "metadata": {},
     "output_type": "execute_result"
    }
   ],
   "source": [
    "dwt.list_of_files('STOXX50E').head(10)"
   ]
  },
  {
   "cell_type": "code",
   "execution_count": 12,
   "metadata": {
    "ExecuteTime": {
     "end_time": "2018-11-12T15:02:58.902518Z",
     "start_time": "2018-11-12T15:02:56.996709Z"
    }
   },
   "outputs": [
    {
     "name": "stdout",
     "output_type": "stream",
     "text": [
      "Process completed. 1 files downloaded\n"
     ]
    }
   ],
   "source": [
    "data = dwt.ticks_from_darwinex('EURUSD', cond='2017-10-01 22', side='ASK')"
   ]
  },
  {
   "cell_type": "code",
   "execution_count": 13,
   "metadata": {
    "ExecuteTime": {
     "end_time": "2018-11-12T15:03:06.799542Z",
     "start_time": "2018-11-12T15:03:06.788235Z"
    }
   },
   "outputs": [
    {
     "data": {
      "text/html": [
       "<div>\n",
       "<style scoped>\n",
       "    .dataframe tbody tr th:only-of-type {\n",
       "        vertical-align: middle;\n",
       "    }\n",
       "\n",
       "    .dataframe tbody tr th {\n",
       "        vertical-align: top;\n",
       "    }\n",
       "\n",
       "    .dataframe thead th {\n",
       "        text-align: right;\n",
       "    }\n",
       "</style>\n",
       "<table border=\"1\" class=\"dataframe\">\n",
       "  <thead>\n",
       "    <tr style=\"text-align: right;\">\n",
       "      <th></th>\n",
       "      <th>Ask</th>\n",
       "      <th>Ask_size</th>\n",
       "    </tr>\n",
       "    <tr>\n",
       "      <th>Time</th>\n",
       "      <th></th>\n",
       "      <th></th>\n",
       "    </tr>\n",
       "  </thead>\n",
       "  <tbody>\n",
       "    <tr>\n",
       "      <th>2017-10-01 22:00:00.043</th>\n",
       "      <td>1.18078</td>\n",
       "      <td>500000</td>\n",
       "    </tr>\n",
       "    <tr>\n",
       "      <th>2017-10-01 22:00:00.134</th>\n",
       "      <td>1.18079</td>\n",
       "      <td>1000000</td>\n",
       "    </tr>\n",
       "    <tr>\n",
       "      <th>2017-10-01 22:00:00.268</th>\n",
       "      <td>1.18078</td>\n",
       "      <td>229000</td>\n",
       "    </tr>\n",
       "    <tr>\n",
       "      <th>2017-10-01 22:00:00.297</th>\n",
       "      <td>1.18081</td>\n",
       "      <td>500000</td>\n",
       "    </tr>\n",
       "    <tr>\n",
       "      <th>2017-10-01 22:00:00.308</th>\n",
       "      <td>1.18083</td>\n",
       "      <td>1000000</td>\n",
       "    </tr>\n",
       "  </tbody>\n",
       "</table>\n",
       "</div>"
      ],
      "text/plain": [
       "                             Ask  Ask_size\n",
       "Time                                      \n",
       "2017-10-01 22:00:00.043  1.18078    500000\n",
       "2017-10-01 22:00:00.134  1.18079   1000000\n",
       "2017-10-01 22:00:00.268  1.18078    229000\n",
       "2017-10-01 22:00:00.297  1.18081    500000\n",
       "2017-10-01 22:00:00.308  1.18083   1000000"
      ]
     },
     "execution_count": 13,
     "metadata": {},
     "output_type": "execute_result"
    }
   ],
   "source": [
    "data.head()"
   ]
  },
  {
   "cell_type": "code",
   "execution_count": 41,
   "metadata": {
    "ExecuteTime": {
     "end_time": "2018-11-12T15:37:48.318878Z",
     "start_time": "2018-11-12T15:37:46.232235Z"
    }
   },
   "outputs": [
    {
     "data": {
      "text/plain": [
       "FloatProgress(value=0.0, max=2.0)"
      ]
     },
     "metadata": {},
     "output_type": "display_data"
    },
    {
     "name": "stdout",
     "output_type": "stream",
     "text": [
      "Process completed. 2 files downloaded\n"
     ]
    }
   ],
   "source": [
    "data = dwt.ticks_from_darwinex('EURUSD', cond='2018-08-02 13')"
   ]
  },
  {
   "cell_type": "code",
   "execution_count": 23,
   "metadata": {
    "ExecuteTime": {
     "end_time": "2018-11-12T15:09:10.613102Z",
     "start_time": "2018-11-12T15:09:02.588691Z"
    }
   },
   "outputs": [
    {
     "name": "stdout",
     "output_type": "stream",
     "text": [
      "\n",
      "NZDUSD\n"
     ]
    },
    {
     "data": {
      "text/plain": [
       "FloatProgress(value=0.0, max=6.0)"
      ]
     },
     "metadata": {},
     "output_type": "display_data"
    },
    {
     "name": "stdout",
     "output_type": "stream",
     "text": [
      "Process completed. 6 files downloaded\n",
      "\n",
      "NZDJPY\n"
     ]
    },
    {
     "data": {
      "text/plain": [
       "FloatProgress(value=0.0, max=6.0)"
      ]
     },
     "metadata": {},
     "output_type": "display_data"
    },
    {
     "name": "stdout",
     "output_type": "stream",
     "text": [
      "Process completed. 6 files downloaded\n"
     ]
    }
   ],
   "source": [
    "data = dwt.ticks_from_darwinex(['NZDUSD','NZDJPY'],\n",
    "                               start='2018-10-01 09', end='2018-10-01 11')"
   ]
  },
  {
   "cell_type": "code",
   "execution_count": 25,
   "metadata": {
    "ExecuteTime": {
     "end_time": "2018-11-12T15:12:16.887509Z",
     "start_time": "2018-11-12T15:11:53.466558Z"
    }
   },
   "outputs": [
    {
     "name": "stdout",
     "output_type": "stream",
     "text": [
      "\n",
      "STOXX50E\n",
      "\n",
      "[INFO] Retrieving data from Darwinex Tick Data Server..\n"
     ]
    },
    {
     "data": {
      "text/plain": [
       "FloatProgress(value=0.0, max=22.0)"
      ]
     },
     "metadata": {},
     "output_type": "display_data"
    },
    {
     "name": "stdout",
     "output_type": "stream",
     "text": [
      "Downloaded file STOXX50E/STOXX50E_ASK_2018-10-01_00.log.gz\n",
      "Downloaded file STOXX50E/STOXX50E_ASK_2018-10-01_01.log.gz\n",
      "Downloaded file STOXX50E/STOXX50E_ASK_2018-10-01_02.log.gz\n",
      "Downloaded file STOXX50E/STOXX50E_ASK_2018-10-01_03.log.gz\n",
      "Downloaded file STOXX50E/STOXX50E_ASK_2018-10-01_04.log.gz\n",
      "Downloaded file STOXX50E/STOXX50E_ASK_2018-10-01_05.log.gz\n",
      "Downloaded file STOXX50E/STOXX50E_ASK_2018-10-01_06.log.gz\n",
      "Downloaded file STOXX50E/STOXX50E_ASK_2018-10-01_07.log.gz\n",
      "Downloaded file STOXX50E/STOXX50E_ASK_2018-10-01_08.log.gz\n",
      "Downloaded file STOXX50E/STOXX50E_ASK_2018-10-01_09.log.gz\n",
      "Downloaded file STOXX50E/STOXX50E_ASK_2018-10-01_10.log.gz\n",
      "Downloaded file STOXX50E/STOXX50E_ASK_2018-10-01_11.log.gz\n",
      "Downloaded file STOXX50E/STOXX50E_ASK_2018-10-01_12.log.gz\n",
      "Downloaded file STOXX50E/STOXX50E_ASK_2018-10-01_13.log.gz\n",
      "Downloaded file STOXX50E/STOXX50E_ASK_2018-10-01_14.log.gz\n",
      "Downloaded file STOXX50E/STOXX50E_ASK_2018-10-01_15.log.gz\n",
      "Downloaded file STOXX50E/STOXX50E_ASK_2018-10-01_16.log.gz\n",
      "Downloaded file STOXX50E/STOXX50E_ASK_2018-10-01_17.log.gz\n",
      "Downloaded file STOXX50E/STOXX50E_ASK_2018-10-01_18.log.gz\n",
      "Downloaded file STOXX50E/STOXX50E_ASK_2018-10-01_19.log.gz\n",
      "Downloaded file STOXX50E/STOXX50E_ASK_2018-10-01_20.log.gz\n",
      "Downloaded file STOXX50E/STOXX50E_ASK_2018-10-01_22.log.gz\n",
      "Process completed. 22 files downloaded\n",
      "\n",
      "SPXm\n",
      "\n",
      "[INFO] Retrieving data from Darwinex Tick Data Server..\n"
     ]
    },
    {
     "data": {
      "text/plain": [
       "FloatProgress(value=0.0, max=23.0)"
      ]
     },
     "metadata": {},
     "output_type": "display_data"
    },
    {
     "name": "stdout",
     "output_type": "stream",
     "text": [
      "Downloaded file SPXm/SPXm_ASK_2018-10-01_00.log.gz\n",
      "Downloaded file SPXm/SPXm_ASK_2018-10-01_01.log.gz\n",
      "Downloaded file SPXm/SPXm_ASK_2018-10-01_02.log.gz\n",
      "Downloaded file SPXm/SPXm_ASK_2018-10-01_03.log.gz\n",
      "Downloaded file SPXm/SPXm_ASK_2018-10-01_04.log.gz\n",
      "Downloaded file SPXm/SPXm_ASK_2018-10-01_05.log.gz\n",
      "Downloaded file SPXm/SPXm_ASK_2018-10-01_06.log.gz\n",
      "Downloaded file SPXm/SPXm_ASK_2018-10-01_07.log.gz\n",
      "Downloaded file SPXm/SPXm_ASK_2018-10-01_08.log.gz\n",
      "Downloaded file SPXm/SPXm_ASK_2018-10-01_09.log.gz\n",
      "Downloaded file SPXm/SPXm_ASK_2018-10-01_10.log.gz\n",
      "Downloaded file SPXm/SPXm_ASK_2018-10-01_11.log.gz\n",
      "Downloaded file SPXm/SPXm_ASK_2018-10-01_12.log.gz\n",
      "Downloaded file SPXm/SPXm_ASK_2018-10-01_13.log.gz\n",
      "Downloaded file SPXm/SPXm_ASK_2018-10-01_14.log.gz\n",
      "Downloaded file SPXm/SPXm_ASK_2018-10-01_15.log.gz\n",
      "Downloaded file SPXm/SPXm_ASK_2018-10-01_16.log.gz\n",
      "Downloaded file SPXm/SPXm_ASK_2018-10-01_17.log.gz\n",
      "Downloaded file SPXm/SPXm_ASK_2018-10-01_18.log.gz\n",
      "Downloaded file SPXm/SPXm_ASK_2018-10-01_19.log.gz\n",
      "Downloaded file SPXm/SPXm_ASK_2018-10-01_20.log.gz\n",
      "Downloaded file SPXm/SPXm_ASK_2018-10-01_22.log.gz\n",
      "Downloaded file SPXm/SPXm_ASK_2018-10-01_23.log.gz\n",
      "Process completed. 23 files downloaded\n",
      "\n",
      "GDAXIm\n",
      "\n",
      "[INFO] Retrieving data from Darwinex Tick Data Server..\n"
     ]
    },
    {
     "data": {
      "text/plain": [
       "FloatProgress(value=0.0, max=14.0)"
      ]
     },
     "metadata": {},
     "output_type": "display_data"
    },
    {
     "name": "stdout",
     "output_type": "stream",
     "text": [
      "Downloaded file GDAXIm/GDAXIm_ASK_2018-10-01_06.log.gz\n",
      "Downloaded file GDAXIm/GDAXIm_ASK_2018-10-01_07.log.gz\n",
      "Downloaded file GDAXIm/GDAXIm_ASK_2018-10-01_08.log.gz\n",
      "Downloaded file GDAXIm/GDAXIm_ASK_2018-10-01_09.log.gz\n",
      "Downloaded file GDAXIm/GDAXIm_ASK_2018-10-01_10.log.gz\n",
      "Downloaded file GDAXIm/GDAXIm_ASK_2018-10-01_11.log.gz\n",
      "Downloaded file GDAXIm/GDAXIm_ASK_2018-10-01_12.log.gz\n",
      "Downloaded file GDAXIm/GDAXIm_ASK_2018-10-01_13.log.gz\n",
      "Downloaded file GDAXIm/GDAXIm_ASK_2018-10-01_14.log.gz\n",
      "Downloaded file GDAXIm/GDAXIm_ASK_2018-10-01_15.log.gz\n",
      "Downloaded file GDAXIm/GDAXIm_ASK_2018-10-01_16.log.gz\n",
      "Downloaded file GDAXIm/GDAXIm_ASK_2018-10-01_17.log.gz\n",
      "Downloaded file GDAXIm/GDAXIm_ASK_2018-10-01_18.log.gz\n",
      "Downloaded file GDAXIm/GDAXIm_ASK_2018-10-01_19.log.gz\n",
      "Downloaded file GDAXIm/GDAXIm_ASK_2018-10-01_20.log.gz\n",
      "Process completed. 15 files downloaded\n"
     ]
    }
   ],
   "source": [
    "data = dwt.ticks_from_darwinex(['STOXX50E', 'SPXm', 'GDAXIm'], \n",
    "                               cond='2018-10-01', side='Ask', verbose=True)"
   ]
  },
  {
   "cell_type": "code",
   "execution_count": 26,
   "metadata": {
    "ExecuteTime": {
     "end_time": "2018-11-12T15:12:35.333246Z",
     "start_time": "2018-11-12T15:12:35.304076Z"
    }
   },
   "outputs": [
    {
     "data": {
      "text/html": [
       "<div>\n",
       "<style scoped>\n",
       "    .dataframe tbody tr th:only-of-type {\n",
       "        vertical-align: middle;\n",
       "    }\n",
       "\n",
       "    .dataframe tbody tr th {\n",
       "        vertical-align: top;\n",
       "    }\n",
       "\n",
       "    .dataframe thead th {\n",
       "        text-align: right;\n",
       "    }\n",
       "</style>\n",
       "<table border=\"1\" class=\"dataframe\">\n",
       "  <thead>\n",
       "    <tr style=\"text-align: right;\">\n",
       "      <th></th>\n",
       "      <th></th>\n",
       "      <th>Ask</th>\n",
       "      <th>Ask_size</th>\n",
       "    </tr>\n",
       "    <tr>\n",
       "      <th></th>\n",
       "      <th>Time</th>\n",
       "      <th></th>\n",
       "      <th></th>\n",
       "    </tr>\n",
       "  </thead>\n",
       "  <tbody>\n",
       "    <tr>\n",
       "      <th rowspan=\"30\" valign=\"top\">STOXX50E</th>\n",
       "      <th>2018-10-01 00:00:00.492</th>\n",
       "      <td>3408.3</td>\n",
       "      <td>10</td>\n",
       "    </tr>\n",
       "    <tr>\n",
       "      <th>2018-10-01 00:00:01.548</th>\n",
       "      <td>3407.3</td>\n",
       "      <td>10</td>\n",
       "    </tr>\n",
       "    <tr>\n",
       "      <th>2018-10-01 00:00:05.761</th>\n",
       "      <td>3408.3</td>\n",
       "      <td>10</td>\n",
       "    </tr>\n",
       "    <tr>\n",
       "      <th>2018-10-01 00:00:06.813</th>\n",
       "      <td>3407.3</td>\n",
       "      <td>10</td>\n",
       "    </tr>\n",
       "    <tr>\n",
       "      <th>2018-10-01 00:00:59.429</th>\n",
       "      <td>3406.3</td>\n",
       "      <td>10</td>\n",
       "    </tr>\n",
       "    <tr>\n",
       "      <th>2018-10-01 00:01:07.848</th>\n",
       "      <td>3407.3</td>\n",
       "      <td>10</td>\n",
       "    </tr>\n",
       "    <tr>\n",
       "      <th>2018-10-01 00:03:04.609</th>\n",
       "      <td>3406.3</td>\n",
       "      <td>10</td>\n",
       "    </tr>\n",
       "    <tr>\n",
       "      <th>2018-10-01 00:05:02.778</th>\n",
       "      <td>3405.3</td>\n",
       "      <td>10</td>\n",
       "    </tr>\n",
       "    <tr>\n",
       "      <th>2018-10-01 00:05:03.479</th>\n",
       "      <td>3406.3</td>\n",
       "      <td>10</td>\n",
       "    </tr>\n",
       "    <tr>\n",
       "      <th>2018-10-01 00:05:06.636</th>\n",
       "      <td>3405.3</td>\n",
       "      <td>10</td>\n",
       "    </tr>\n",
       "    <tr>\n",
       "      <th>2018-10-01 00:07:21.060</th>\n",
       "      <td>3406.3</td>\n",
       "      <td>10</td>\n",
       "    </tr>\n",
       "    <tr>\n",
       "      <th>2018-10-01 00:14:25.451</th>\n",
       "      <td>3407.3</td>\n",
       "      <td>10</td>\n",
       "    </tr>\n",
       "    <tr>\n",
       "      <th>2018-10-01 00:15:00.186</th>\n",
       "      <td>3406.3</td>\n",
       "      <td>10</td>\n",
       "    </tr>\n",
       "    <tr>\n",
       "      <th>2018-10-01 00:15:01.240</th>\n",
       "      <td>3407.3</td>\n",
       "      <td>10</td>\n",
       "    </tr>\n",
       "    <tr>\n",
       "      <th>2018-10-01 00:15:02.996</th>\n",
       "      <td>3406.3</td>\n",
       "      <td>10</td>\n",
       "    </tr>\n",
       "    <tr>\n",
       "      <th>2018-10-01 00:15:14.567</th>\n",
       "      <td>3407.3</td>\n",
       "      <td>10</td>\n",
       "    </tr>\n",
       "    <tr>\n",
       "      <th>2018-10-01 00:15:36.304</th>\n",
       "      <td>3406.3</td>\n",
       "      <td>10</td>\n",
       "    </tr>\n",
       "    <tr>\n",
       "      <th>2018-10-01 00:16:01.553</th>\n",
       "      <td>3407.3</td>\n",
       "      <td>10</td>\n",
       "    </tr>\n",
       "    <tr>\n",
       "      <th>2018-10-01 00:16:42.571</th>\n",
       "      <td>3406.3</td>\n",
       "      <td>10</td>\n",
       "    </tr>\n",
       "    <tr>\n",
       "      <th>2018-10-01 00:17:20.792</th>\n",
       "      <td>3407.3</td>\n",
       "      <td>10</td>\n",
       "    </tr>\n",
       "    <tr>\n",
       "      <th>2018-10-01 00:17:29.203</th>\n",
       "      <td>3406.3</td>\n",
       "      <td>10</td>\n",
       "    </tr>\n",
       "    <tr>\n",
       "      <th>2018-10-01 00:17:39.015</th>\n",
       "      <td>3407.3</td>\n",
       "      <td>10</td>\n",
       "    </tr>\n",
       "    <tr>\n",
       "      <th>2018-10-01 00:18:06.001</th>\n",
       "      <td>3406.3</td>\n",
       "      <td>10</td>\n",
       "    </tr>\n",
       "    <tr>\n",
       "      <th>2018-10-01 00:22:28.942</th>\n",
       "      <td>3407.3</td>\n",
       "      <td>10</td>\n",
       "    </tr>\n",
       "    <tr>\n",
       "      <th>2018-10-01 00:23:00.487</th>\n",
       "      <td>3406.3</td>\n",
       "      <td>10</td>\n",
       "    </tr>\n",
       "    <tr>\n",
       "      <th>2018-10-01 00:23:02.590</th>\n",
       "      <td>3407.3</td>\n",
       "      <td>10</td>\n",
       "    </tr>\n",
       "    <tr>\n",
       "      <th>2018-10-01 00:23:06.450</th>\n",
       "      <td>3406.3</td>\n",
       "      <td>10</td>\n",
       "    </tr>\n",
       "    <tr>\n",
       "      <th>2018-10-01 00:23:07.501</th>\n",
       "      <td>3407.3</td>\n",
       "      <td>10</td>\n",
       "    </tr>\n",
       "    <tr>\n",
       "      <th>2018-10-01 00:26:44.294</th>\n",
       "      <td>3406.3</td>\n",
       "      <td>10</td>\n",
       "    </tr>\n",
       "    <tr>\n",
       "      <th>2018-10-01 00:26:48.148</th>\n",
       "      <td>3407.3</td>\n",
       "      <td>10</td>\n",
       "    </tr>\n",
       "    <tr>\n",
       "      <th>...</th>\n",
       "      <th>...</th>\n",
       "      <td>...</td>\n",
       "      <td>...</td>\n",
       "    </tr>\n",
       "    <tr>\n",
       "      <th rowspan=\"30\" valign=\"top\">GDAXIm</th>\n",
       "      <th>2018-10-01 19:59:20.336</th>\n",
       "      <td>12314.0</td>\n",
       "      <td>50</td>\n",
       "    </tr>\n",
       "    <tr>\n",
       "      <th>2018-10-01 19:59:21.390</th>\n",
       "      <td>12314.5</td>\n",
       "      <td>75</td>\n",
       "    </tr>\n",
       "    <tr>\n",
       "      <th>2018-10-01 19:59:22.792</th>\n",
       "      <td>12314.0</td>\n",
       "      <td>75</td>\n",
       "    </tr>\n",
       "    <tr>\n",
       "      <th>2018-10-01 19:59:24.195</th>\n",
       "      <td>12313.5</td>\n",
       "      <td>75</td>\n",
       "    </tr>\n",
       "    <tr>\n",
       "      <th>2018-10-01 19:59:25.949</th>\n",
       "      <td>12314.0</td>\n",
       "      <td>75</td>\n",
       "    </tr>\n",
       "    <tr>\n",
       "      <th>2018-10-01 19:59:26.301</th>\n",
       "      <td>12313.5</td>\n",
       "      <td>50</td>\n",
       "    </tr>\n",
       "    <tr>\n",
       "      <th>2018-10-01 19:59:27.004</th>\n",
       "      <td>12314.0</td>\n",
       "      <td>75</td>\n",
       "    </tr>\n",
       "    <tr>\n",
       "      <th>2018-10-01 19:59:29.460</th>\n",
       "      <td>12313.5</td>\n",
       "      <td>75</td>\n",
       "    </tr>\n",
       "    <tr>\n",
       "      <th>2018-10-01 19:59:30.863</th>\n",
       "      <td>12312.5</td>\n",
       "      <td>50</td>\n",
       "    </tr>\n",
       "    <tr>\n",
       "      <th>2018-10-01 19:59:32.968</th>\n",
       "      <td>12313.0</td>\n",
       "      <td>50</td>\n",
       "    </tr>\n",
       "    <tr>\n",
       "      <th>2018-10-01 19:59:34.022</th>\n",
       "      <td>12312.5</td>\n",
       "      <td>75</td>\n",
       "    </tr>\n",
       "    <tr>\n",
       "      <th>2018-10-01 19:59:35.776</th>\n",
       "      <td>12312.0</td>\n",
       "      <td>75</td>\n",
       "    </tr>\n",
       "    <tr>\n",
       "      <th>2018-10-01 19:59:37.181</th>\n",
       "      <td>12311.5</td>\n",
       "      <td>75</td>\n",
       "    </tr>\n",
       "    <tr>\n",
       "      <th>2018-10-01 19:59:38.936</th>\n",
       "      <td>12311.0</td>\n",
       "      <td>75</td>\n",
       "    </tr>\n",
       "    <tr>\n",
       "      <th>2018-10-01 19:59:40.690</th>\n",
       "      <td>12309.5</td>\n",
       "      <td>75</td>\n",
       "    </tr>\n",
       "    <tr>\n",
       "      <th>2018-10-01 19:59:42.796</th>\n",
       "      <td>12309.0</td>\n",
       "      <td>75</td>\n",
       "    </tr>\n",
       "    <tr>\n",
       "      <th>2018-10-01 19:59:45.603</th>\n",
       "      <td>12310.5</td>\n",
       "      <td>75</td>\n",
       "    </tr>\n",
       "    <tr>\n",
       "      <th>2018-10-01 19:59:47.711</th>\n",
       "      <td>12309.0</td>\n",
       "      <td>25</td>\n",
       "    </tr>\n",
       "    <tr>\n",
       "      <th>2018-10-01 19:59:48.063</th>\n",
       "      <td>12310.0</td>\n",
       "      <td>50</td>\n",
       "    </tr>\n",
       "    <tr>\n",
       "      <th>2018-10-01 19:59:49.114</th>\n",
       "      <td>12310.5</td>\n",
       "      <td>50</td>\n",
       "    </tr>\n",
       "    <tr>\n",
       "      <th>2018-10-01 19:59:50.522</th>\n",
       "      <td>12310.0</td>\n",
       "      <td>25</td>\n",
       "    </tr>\n",
       "    <tr>\n",
       "      <th>2018-10-01 19:59:50.872</th>\n",
       "      <td>12311.5</td>\n",
       "      <td>50</td>\n",
       "    </tr>\n",
       "    <tr>\n",
       "      <th>2018-10-01 19:59:51.575</th>\n",
       "      <td>12312.5</td>\n",
       "      <td>75</td>\n",
       "    </tr>\n",
       "    <tr>\n",
       "      <th>2018-10-01 19:59:52.276</th>\n",
       "      <td>12311.5</td>\n",
       "      <td>50</td>\n",
       "    </tr>\n",
       "    <tr>\n",
       "      <th>2018-10-01 19:59:53.329</th>\n",
       "      <td>12312.5</td>\n",
       "      <td>75</td>\n",
       "    </tr>\n",
       "    <tr>\n",
       "      <th>2018-10-01 19:59:56.490</th>\n",
       "      <td>12311.5</td>\n",
       "      <td>75</td>\n",
       "    </tr>\n",
       "    <tr>\n",
       "      <th>2018-10-01 19:59:57.894</th>\n",
       "      <td>12312.0</td>\n",
       "      <td>75</td>\n",
       "    </tr>\n",
       "    <tr>\n",
       "      <th>2018-10-01 19:59:58.245</th>\n",
       "      <td>12311.5</td>\n",
       "      <td>75</td>\n",
       "    </tr>\n",
       "    <tr>\n",
       "      <th>2018-10-01 19:59:59.299</th>\n",
       "      <td>12312.0</td>\n",
       "      <td>75</td>\n",
       "    </tr>\n",
       "    <tr>\n",
       "      <th>2018-10-01 20:00:00.002</th>\n",
       "      <td>12312.5</td>\n",
       "      <td>75</td>\n",
       "    </tr>\n",
       "  </tbody>\n",
       "</table>\n",
       "<p>33000 rows × 2 columns</p>\n",
       "</div>"
      ],
      "text/plain": [
       "                                      Ask  Ask_size\n",
       "         Time                                      \n",
       "STOXX50E 2018-10-01 00:00:00.492   3408.3        10\n",
       "         2018-10-01 00:00:01.548   3407.3        10\n",
       "         2018-10-01 00:00:05.761   3408.3        10\n",
       "         2018-10-01 00:00:06.813   3407.3        10\n",
       "         2018-10-01 00:00:59.429   3406.3        10\n",
       "         2018-10-01 00:01:07.848   3407.3        10\n",
       "         2018-10-01 00:03:04.609   3406.3        10\n",
       "         2018-10-01 00:05:02.778   3405.3        10\n",
       "         2018-10-01 00:05:03.479   3406.3        10\n",
       "         2018-10-01 00:05:06.636   3405.3        10\n",
       "         2018-10-01 00:07:21.060   3406.3        10\n",
       "         2018-10-01 00:14:25.451   3407.3        10\n",
       "         2018-10-01 00:15:00.186   3406.3        10\n",
       "         2018-10-01 00:15:01.240   3407.3        10\n",
       "         2018-10-01 00:15:02.996   3406.3        10\n",
       "         2018-10-01 00:15:14.567   3407.3        10\n",
       "         2018-10-01 00:15:36.304   3406.3        10\n",
       "         2018-10-01 00:16:01.553   3407.3        10\n",
       "         2018-10-01 00:16:42.571   3406.3        10\n",
       "         2018-10-01 00:17:20.792   3407.3        10\n",
       "         2018-10-01 00:17:29.203   3406.3        10\n",
       "         2018-10-01 00:17:39.015   3407.3        10\n",
       "         2018-10-01 00:18:06.001   3406.3        10\n",
       "         2018-10-01 00:22:28.942   3407.3        10\n",
       "         2018-10-01 00:23:00.487   3406.3        10\n",
       "         2018-10-01 00:23:02.590   3407.3        10\n",
       "         2018-10-01 00:23:06.450   3406.3        10\n",
       "         2018-10-01 00:23:07.501   3407.3        10\n",
       "         2018-10-01 00:26:44.294   3406.3        10\n",
       "         2018-10-01 00:26:48.148   3407.3        10\n",
       "...                                   ...       ...\n",
       "GDAXIm   2018-10-01 19:59:20.336  12314.0        50\n",
       "         2018-10-01 19:59:21.390  12314.5        75\n",
       "         2018-10-01 19:59:22.792  12314.0        75\n",
       "         2018-10-01 19:59:24.195  12313.5        75\n",
       "         2018-10-01 19:59:25.949  12314.0        75\n",
       "         2018-10-01 19:59:26.301  12313.5        50\n",
       "         2018-10-01 19:59:27.004  12314.0        75\n",
       "         2018-10-01 19:59:29.460  12313.5        75\n",
       "         2018-10-01 19:59:30.863  12312.5        50\n",
       "         2018-10-01 19:59:32.968  12313.0        50\n",
       "         2018-10-01 19:59:34.022  12312.5        75\n",
       "         2018-10-01 19:59:35.776  12312.0        75\n",
       "         2018-10-01 19:59:37.181  12311.5        75\n",
       "         2018-10-01 19:59:38.936  12311.0        75\n",
       "         2018-10-01 19:59:40.690  12309.5        75\n",
       "         2018-10-01 19:59:42.796  12309.0        75\n",
       "         2018-10-01 19:59:45.603  12310.5        75\n",
       "         2018-10-01 19:59:47.711  12309.0        25\n",
       "         2018-10-01 19:59:48.063  12310.0        50\n",
       "         2018-10-01 19:59:49.114  12310.5        50\n",
       "         2018-10-01 19:59:50.522  12310.0        25\n",
       "         2018-10-01 19:59:50.872  12311.5        50\n",
       "         2018-10-01 19:59:51.575  12312.5        75\n",
       "         2018-10-01 19:59:52.276  12311.5        50\n",
       "         2018-10-01 19:59:53.329  12312.5        75\n",
       "         2018-10-01 19:59:56.490  12311.5        75\n",
       "         2018-10-01 19:59:57.894  12312.0        75\n",
       "         2018-10-01 19:59:58.245  12311.5        75\n",
       "         2018-10-01 19:59:59.299  12312.0        75\n",
       "         2018-10-01 20:00:00.002  12312.5        75\n",
       "\n",
       "[33000 rows x 2 columns]"
      ]
     },
     "execution_count": 26,
     "metadata": {},
     "output_type": "execute_result"
    }
   ],
   "source": [
    "data"
   ]
  },
  {
   "cell_type": "code",
   "execution_count": 32,
   "metadata": {
    "ExecuteTime": {
     "end_time": "2018-11-12T15:13:22.500108Z",
     "start_time": "2018-11-12T15:13:22.488058Z"
    }
   },
   "outputs": [
    {
     "data": {
      "text/html": [
       "<div>\n",
       "<style scoped>\n",
       "    .dataframe tbody tr th:only-of-type {\n",
       "        vertical-align: middle;\n",
       "    }\n",
       "\n",
       "    .dataframe tbody tr th {\n",
       "        vertical-align: top;\n",
       "    }\n",
       "\n",
       "    .dataframe thead th {\n",
       "        text-align: right;\n",
       "    }\n",
       "</style>\n",
       "<table border=\"1\" class=\"dataframe\">\n",
       "  <thead>\n",
       "    <tr style=\"text-align: right;\">\n",
       "      <th></th>\n",
       "      <th>Ask</th>\n",
       "      <th>Ask_size</th>\n",
       "    </tr>\n",
       "    <tr>\n",
       "      <th>Time</th>\n",
       "      <th></th>\n",
       "      <th></th>\n",
       "    </tr>\n",
       "  </thead>\n",
       "  <tbody>\n",
       "    <tr>\n",
       "      <th>2018-10-01 19:59:56.490</th>\n",
       "      <td>12311.5</td>\n",
       "      <td>75</td>\n",
       "    </tr>\n",
       "    <tr>\n",
       "      <th>2018-10-01 19:59:57.894</th>\n",
       "      <td>12312.0</td>\n",
       "      <td>75</td>\n",
       "    </tr>\n",
       "    <tr>\n",
       "      <th>2018-10-01 19:59:58.245</th>\n",
       "      <td>12311.5</td>\n",
       "      <td>75</td>\n",
       "    </tr>\n",
       "    <tr>\n",
       "      <th>2018-10-01 19:59:59.299</th>\n",
       "      <td>12312.0</td>\n",
       "      <td>75</td>\n",
       "    </tr>\n",
       "    <tr>\n",
       "      <th>2018-10-01 20:00:00.002</th>\n",
       "      <td>12312.5</td>\n",
       "      <td>75</td>\n",
       "    </tr>\n",
       "  </tbody>\n",
       "</table>\n",
       "</div>"
      ],
      "text/plain": [
       "                             Ask  Ask_size\n",
       "Time                                      \n",
       "2018-10-01 19:59:56.490  12311.5        75\n",
       "2018-10-01 19:59:57.894  12312.0        75\n",
       "2018-10-01 19:59:58.245  12311.5        75\n",
       "2018-10-01 19:59:59.299  12312.0        75\n",
       "2018-10-01 20:00:00.002  12312.5        75"
      ]
     },
     "execution_count": 32,
     "metadata": {},
     "output_type": "execute_result"
    }
   ],
   "source": [
    "data.loc['GDAXIm'].tail()"
   ]
  },
  {
   "cell_type": "code",
   "execution_count": 33,
   "metadata": {
    "ExecuteTime": {
     "end_time": "2018-11-12T15:14:07.061609Z",
     "start_time": "2018-11-12T15:14:04.662947Z"
    }
   },
   "outputs": [
    {
     "data": {
      "text/plain": [
       "FloatProgress(value=0.0, max=2.0)"
      ]
     },
     "metadata": {},
     "output_type": "display_data"
    },
    {
     "name": "stdout",
     "output_type": "stream",
     "text": [
      "Process completed. 2 files downloaded\n"
     ]
    }
   ],
   "source": [
    "data = dwt.ticks_from_darwinex('EURUSD', cond='2018-11-01 12', separated=True)"
   ]
  },
  {
   "cell_type": "code",
   "execution_count": 34,
   "metadata": {
    "ExecuteTime": {
     "end_time": "2018-11-12T15:14:11.223653Z",
     "start_time": "2018-11-12T15:14:11.191078Z"
    }
   },
   "outputs": [
    {
     "data": {
      "text/plain": [
       "{'ASK':                              Ask   Ask_size\n",
       "Time                                       \n",
       "2018-11-01 11:59:59.993  1.13951   500000.0\n",
       "2018-11-01 12:00:00.346  1.13953   700000.0\n",
       "2018-11-01 12:00:01.051  1.13943   589000.0\n",
       "2018-11-01 12:00:01.404  1.13948  1339000.0\n",
       "2018-11-01 12:00:01.754  1.13949   250000.0\n",
       "2018-11-01 12:00:02.105  1.13950   464000.0\n",
       "2018-11-01 12:00:02.809  1.13953   500000.0\n",
       "2018-11-01 12:00:03.161  1.13954  1329000.0\n",
       "2018-11-01 12:00:03.511  1.13952   500000.0\n",
       "2018-11-01 12:00:03.863  1.13954   750000.0\n",
       "2018-11-01 12:00:04.567  1.13955   750000.0\n",
       "2018-11-01 12:00:04.919  1.13963  1584000.0\n",
       "2018-11-01 12:00:05.974  1.13942   500000.0\n",
       "2018-11-01 12:00:06.327  1.13934   500000.0\n",
       "2018-11-01 12:00:06.678  1.13931   492000.0\n",
       "2018-11-01 12:00:07.029  1.13929   492000.0\n",
       "2018-11-01 12:00:07.381  1.13935   492000.0\n",
       "2018-11-01 12:00:07.733  1.13937   492000.0\n",
       "2018-11-01 12:00:09.139  1.13934   500000.0\n",
       "2018-11-01 12:00:09.491  1.13940   500000.0\n",
       "2018-11-01 12:00:09.842  1.13938   500000.0\n",
       "2018-11-01 12:00:10.194  1.13948   579000.0\n",
       "2018-11-01 12:00:10.547  1.13929   500000.0\n",
       "2018-11-01 12:00:11.601  1.13931   551000.0\n",
       "2018-11-01 12:00:11.954  1.13936   251000.0\n",
       "2018-11-01 12:00:12.305  1.13934   751000.0\n",
       "2018-11-01 12:00:12.657  1.13938   500000.0\n",
       "2018-11-01 12:00:13.710  1.13939   251000.0\n",
       "2018-11-01 12:00:14.413  1.13941   499000.0\n",
       "2018-11-01 12:00:14.764  1.13935   750000.0\n",
       "...                          ...        ...\n",
       "2018-11-01 12:59:29.207  1.13878   251000.0\n",
       "2018-11-01 12:59:29.558  1.13879  2251000.0\n",
       "2018-11-01 12:59:32.018  1.13880  1250000.0\n",
       "2018-11-01 12:59:33.072  1.13878   501000.0\n",
       "2018-11-01 12:59:33.422  1.13879  2001000.0\n",
       "2018-11-01 12:59:33.773  1.13880  2001000.0\n",
       "2018-11-01 12:59:37.637  1.13878  1000000.0\n",
       "2018-11-01 12:59:37.989  1.13874  1001000.0\n",
       "2018-11-01 12:59:38.341  1.13873  1000000.0\n",
       "2018-11-01 12:59:38.692  1.13872  1251000.0\n",
       "2018-11-01 12:59:39.394  1.13873  1000000.0\n",
       "2018-11-01 12:59:41.502  1.13875  2001000.0\n",
       "2018-11-01 12:59:42.205  1.13874  1000000.0\n",
       "2018-11-01 12:59:42.557  1.13875  1501000.0\n",
       "2018-11-01 12:59:44.314  1.13872   250000.0\n",
       "2018-11-01 12:59:44.666  1.13873  1501000.0\n",
       "2018-11-01 12:59:46.072  1.13872  1251000.0\n",
       "2018-11-01 12:59:47.479  1.13869  2501000.0\n",
       "2018-11-01 12:59:49.236  1.13870   251000.0\n",
       "2018-11-01 12:59:49.588  1.13867   250000.0\n",
       "2018-11-01 12:59:49.939  1.13868   251000.0\n",
       "2018-11-01 12:59:50.291  1.13869  1000000.0\n",
       "2018-11-01 12:59:50.644  1.13873  1000000.0\n",
       "2018-11-01 12:59:51.347  1.13878  1000000.0\n",
       "2018-11-01 12:59:52.403  1.13874   751000.0\n",
       "2018-11-01 12:59:53.105  1.13875  1751000.0\n",
       "2018-11-01 12:59:53.458  1.13878   251000.0\n",
       "2018-11-01 12:59:55.214  1.13877   251000.0\n",
       "2018-11-01 12:59:56.970  1.13880   251000.0\n",
       "2018-11-01 12:59:59.079  1.13877   750000.0\n",
       "\n",
       "[2928 rows x 2 columns], 'BID':                              Bid   Bid_size\n",
       "Time                                       \n",
       "2018-11-01 11:59:59.993  1.13947   999000.0\n",
       "2018-11-01 12:00:00.346  1.13949   991000.0\n",
       "2018-11-01 12:00:01.051  1.13938  2000000.0\n",
       "2018-11-01 12:00:01.404  1.13945   220000.0\n",
       "2018-11-01 12:00:01.754  1.13946   500000.0\n",
       "2018-11-01 12:00:02.105  1.13944   490000.0\n",
       "2018-11-01 12:00:02.809  1.13949   750000.0\n",
       "2018-11-01 12:00:04.215  1.13951  1251000.0\n",
       "2018-11-01 12:00:04.567  1.13952   250000.0\n",
       "2018-11-01 12:00:04.919  1.13958   750000.0\n",
       "2018-11-01 12:00:05.270  1.13959   250000.0\n",
       "2018-11-01 12:00:05.621  1.13958  1249000.0\n",
       "2018-11-01 12:00:05.974  1.13935   500000.0\n",
       "2018-11-01 12:00:06.327  1.13931   500000.0\n",
       "2018-11-01 12:00:06.678  1.13928   501000.0\n",
       "2018-11-01 12:00:07.029  1.13925   500000.0\n",
       "2018-11-01 12:00:07.381  1.13931   251000.0\n",
       "2018-11-01 12:00:07.733  1.13934   238000.0\n",
       "2018-11-01 12:00:08.085  1.13932   238000.0\n",
       "2018-11-01 12:00:08.435  1.13933   250000.0\n",
       "2018-11-01 12:00:09.139  1.13930   750000.0\n",
       "2018-11-01 12:00:09.491  1.13934  1251000.0\n",
       "2018-11-01 12:00:10.194  1.13942   251000.0\n",
       "2018-11-01 12:00:10.547  1.13926   500000.0\n",
       "2018-11-01 12:00:11.954  1.13932   731000.0\n",
       "2018-11-01 12:00:12.305  1.13930   501000.0\n",
       "2018-11-01 12:00:12.657  1.13934  1251000.0\n",
       "2018-11-01 12:00:13.360  1.13935   250000.0\n",
       "2018-11-01 12:00:13.710  1.13934   750000.0\n",
       "2018-11-01 12:00:14.413  1.13937   251000.0\n",
       "...                          ...        ...\n",
       "2018-11-01 12:59:18.671  1.13877  1000000.0\n",
       "2018-11-01 12:59:20.777  1.13878   501000.0\n",
       "2018-11-01 12:59:27.801  1.13877   501000.0\n",
       "2018-11-01 12:59:28.856  1.13876   500000.0\n",
       "2018-11-01 12:59:32.018  1.13877  1250000.0\n",
       "2018-11-01 12:59:33.072  1.13876   500000.0\n",
       "2018-11-01 12:59:33.773  1.13877  1250000.0\n",
       "2018-11-01 12:59:34.826  1.13878  1000000.0\n",
       "2018-11-01 12:59:35.178  1.13877  1000000.0\n",
       "2018-11-01 12:59:37.989  1.13872  1000000.0\n",
       "2018-11-01 12:59:38.692  1.13870  1500000.0\n",
       "2018-11-01 12:59:39.394  1.13871  1000000.0\n",
       "2018-11-01 12:59:41.502  1.13872  1251000.0\n",
       "2018-11-01 12:59:44.314  1.13871   500000.0\n",
       "2018-11-01 12:59:45.368  1.13870   751000.0\n",
       "2018-11-01 12:59:47.479  1.13866  1251000.0\n",
       "2018-11-01 12:59:49.236  1.13867  1251000.0\n",
       "2018-11-01 12:59:49.588  1.13866   500000.0\n",
       "2018-11-01 12:59:50.291  1.13867  1251000.0\n",
       "2018-11-01 12:59:50.644  1.13872   500000.0\n",
       "2018-11-01 12:59:50.996  1.13870  1251000.0\n",
       "2018-11-01 12:59:51.347  1.13877   500000.0\n",
       "2018-11-01 12:59:51.699  1.13875   500000.0\n",
       "2018-11-01 12:59:52.403  1.13872   500000.0\n",
       "2018-11-01 12:59:52.754  1.13871  1751000.0\n",
       "2018-11-01 12:59:53.105  1.13872  1251000.0\n",
       "2018-11-01 12:59:53.458  1.13875  2501000.0\n",
       "2018-11-01 12:59:56.970  1.13877  1000000.0\n",
       "2018-11-01 12:59:58.726  1.13878   500000.0\n",
       "2018-11-01 12:59:59.079  1.13874   500000.0\n",
       "\n",
       "[2764 rows x 2 columns]}"
      ]
     },
     "execution_count": 34,
     "metadata": {},
     "output_type": "execute_result"
    }
   ],
   "source": [
    "data"
   ]
  },
  {
   "cell_type": "code",
   "execution_count": 37,
   "metadata": {
    "ExecuteTime": {
     "end_time": "2018-11-12T15:14:36.978168Z",
     "start_time": "2018-11-12T15:14:36.967674Z"
    }
   },
   "outputs": [
    {
     "data": {
      "text/html": [
       "<div>\n",
       "<style scoped>\n",
       "    .dataframe tbody tr th:only-of-type {\n",
       "        vertical-align: middle;\n",
       "    }\n",
       "\n",
       "    .dataframe tbody tr th {\n",
       "        vertical-align: top;\n",
       "    }\n",
       "\n",
       "    .dataframe thead th {\n",
       "        text-align: right;\n",
       "    }\n",
       "</style>\n",
       "<table border=\"1\" class=\"dataframe\">\n",
       "  <thead>\n",
       "    <tr style=\"text-align: right;\">\n",
       "      <th></th>\n",
       "      <th>Bid</th>\n",
       "      <th>Bid_size</th>\n",
       "    </tr>\n",
       "    <tr>\n",
       "      <th>Time</th>\n",
       "      <th></th>\n",
       "      <th></th>\n",
       "    </tr>\n",
       "  </thead>\n",
       "  <tbody>\n",
       "    <tr>\n",
       "      <th>2018-11-01 12:59:53.105</th>\n",
       "      <td>1.13872</td>\n",
       "      <td>1251000.0</td>\n",
       "    </tr>\n",
       "    <tr>\n",
       "      <th>2018-11-01 12:59:53.458</th>\n",
       "      <td>1.13875</td>\n",
       "      <td>2501000.0</td>\n",
       "    </tr>\n",
       "    <tr>\n",
       "      <th>2018-11-01 12:59:56.970</th>\n",
       "      <td>1.13877</td>\n",
       "      <td>1000000.0</td>\n",
       "    </tr>\n",
       "    <tr>\n",
       "      <th>2018-11-01 12:59:58.726</th>\n",
       "      <td>1.13878</td>\n",
       "      <td>500000.0</td>\n",
       "    </tr>\n",
       "    <tr>\n",
       "      <th>2018-11-01 12:59:59.079</th>\n",
       "      <td>1.13874</td>\n",
       "      <td>500000.0</td>\n",
       "    </tr>\n",
       "  </tbody>\n",
       "</table>\n",
       "</div>"
      ],
      "text/plain": [
       "                             Bid   Bid_size\n",
       "Time                                       \n",
       "2018-11-01 12:59:53.105  1.13872  1251000.0\n",
       "2018-11-01 12:59:53.458  1.13875  2501000.0\n",
       "2018-11-01 12:59:56.970  1.13877  1000000.0\n",
       "2018-11-01 12:59:58.726  1.13878   500000.0\n",
       "2018-11-01 12:59:59.079  1.13874   500000.0"
      ]
     },
     "execution_count": 37,
     "metadata": {},
     "output_type": "execute_result"
    }
   ],
   "source": [
    "data['BID'].tail()"
   ]
  },
  {
   "cell_type": "code",
   "execution_count": null,
   "metadata": {},
   "outputs": [],
   "source": []
  }
 ],
 "metadata": {
  "hide_input": false,
  "kernelspec": {
   "display_name": "Python [default]",
   "language": "python",
   "name": "python2"
  },
  "language_info": {
   "codemirror_mode": {
    "name": "ipython",
    "version": 2
   },
   "file_extension": ".py",
   "mimetype": "text/x-python",
   "name": "python",
   "nbconvert_exporter": "python",
   "pygments_lexer": "ipython2",
   "version": "2.7.12"
  },
  "toc": {
   "base_numbering": 1.0,
   "nav_menu": {},
   "number_sections": true,
   "sideBar": true,
   "skip_h1_title": false,
   "title_cell": "Tabla de Contenido",
   "title_sidebar": "Contenidos",
   "toc_cell": false,
   "toc_position": {},
   "toc_section_display": true,
   "toc_window_display": false
  },
  "varInspector": {
   "cols": {
    "lenName": 16.0,
    "lenType": 16.0,
    "lenVar": 40.0
   },
   "kernels_config": {
    "python": {
     "delete_cmd_postfix": "",
     "delete_cmd_prefix": "del ",
     "library": "var_list.py",
     "varRefreshCmd": "print(var_dic_list())"
    },
    "r": {
     "delete_cmd_postfix": ") ",
     "delete_cmd_prefix": "rm(",
     "library": "var_list.r",
     "varRefreshCmd": "cat(var_dic_list()) "
    }
   },
   "types_to_exclude": [
    "module",
    "function",
    "builtin_function_or_method",
    "instance",
    "_Feature"
   ],
   "window_display": false
  }
 },
 "nbformat": 4,
 "nbformat_minor": 1
}
